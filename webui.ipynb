{
 "cells": [
  {
   "cell_type": "code",
   "execution_count": 2,
   "metadata": {},
   "outputs": [],
   "source": [
    "%load_ext autoreload\n",
    "%autoreload 2\n",
    "\n",
    "import json\n",
    "import rtcloud"
   ]
  },
  {
   "cell_type": "code",
   "execution_count": 5,
   "metadata": {},
   "outputs": [],
   "source": [
    "conf = {\n",
    "    'test': 1\n",
    "}\n",
    "\n",
    "client = rtcloud.Client(server_ip='localhost', conf=conf)\n",
    "client.start()"
   ]
  },
  {
   "cell_type": "code",
   "execution_count": 6,
   "metadata": {},
   "outputs": [
    {
     "name": "stdout",
     "output_type": "stream",
     "text": [
      "Starting to watch!\n",
      "b'ACK'\n",
      "b'ACK'\n",
      "b'ACK'\n"
     ]
    },
    {
     "name": "stderr",
     "output_type": "stream",
     "text": [
      "Process Process-4:\n",
      "Process Process-3:\n",
      "Traceback (most recent call last):\n",
      "Traceback (most recent call last):\n",
      "  File \"/Users/dsuo/rtcloud/venv/lib/python3.6/site-packages/multiprocess/process.py\", line 249, in _bootstrap\n",
      "    self.run()\n",
      "  File \"/Users/dsuo/rtcloud/venv/lib/python3.6/site-packages/multiprocess/process.py\", line 249, in _bootstrap\n",
      "    self.run()\n",
      "  File \"/Users/dsuo/rtcloud/venv/lib/python3.6/site-packages/multiprocess/process.py\", line 93, in run\n",
      "    self._target(*self._args, **self._kwargs)\n",
      "  File \"/Users/dsuo/rtcloud/venv/lib/python3.6/site-packages/multiprocess/process.py\", line 93, in run\n",
      "    self._target(*self._args, **self._kwargs)\n",
      "  File \"/Users/dsuo/rtcloud/rtcloud/client.py\", line 79, in queue_helper\n",
      "    time.sleep(float(tr / 1000))\n",
      "KeyboardInterrupt\n",
      "  File \"/Users/dsuo/rtcloud/rtcloud/client.py\", line 120, in watch_helper\n",
      "    channel.start_consuming()\n",
      "  File \"/Users/dsuo/rtcloud/venv/lib/python3.6/site-packages/pika/adapters/blocking_connection.py\", line 1756, in start_consuming\n",
      "    self.connection.process_data_events(time_limit=None)\n",
      "  File \"/Users/dsuo/rtcloud/venv/lib/python3.6/site-packages/pika/adapters/blocking_connection.py\", line 707, in process_data_events\n",
      "    self._flush_output(common_terminator)\n",
      "  File \"/Users/dsuo/rtcloud/venv/lib/python3.6/site-packages/pika/adapters/blocking_connection.py\", line 455, in _flush_output\n",
      "    self._impl.ioloop.poll()\n",
      "  File \"/Users/dsuo/rtcloud/venv/lib/python3.6/site-packages/pika/adapters/select_connection.py\", line 245, in poll\n",
      "    self._poller.poll()\n",
      "  File \"/Users/dsuo/rtcloud/venv/lib/python3.6/site-packages/pika/adapters/select_connection.py\", line 804, in poll\n",
      "    self._get_next_deadline())\n",
      "KeyboardInterrupt\n"
     ]
    }
   ],
   "source": [
    "client.queue(input_dir='data', tr=2000, loop=True)\n",
    "client.watch(callback=lambda result: print(result))"
   ]
  },
  {
   "cell_type": "code",
   "execution_count": null,
   "metadata": {},
   "outputs": [],
   "source": []
  }
 ],
 "metadata": {
  "kernelspec": {
   "display_name": "Python 3",
   "language": "python",
   "name": "python3"
  },
  "language_info": {
   "codemirror_mode": {
    "name": "ipython",
    "version": 3
   },
   "file_extension": ".py",
   "mimetype": "text/x-python",
   "name": "python",
   "nbconvert_exporter": "python",
   "pygments_lexer": "ipython3",
   "version": "3.6.3"
  }
 },
 "nbformat": 4,
 "nbformat_minor": 2
}
