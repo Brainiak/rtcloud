{
 "cells": [
  {
   "cell_type": "code",
   "execution_count": 1,
   "metadata": {},
   "outputs": [],
   "source": [
    "%load_ext autoreload\n",
    "%autoreload 2\n",
    "%matplotlib inline\n",
    "\n",
    "\n",
    "import json\n",
    "\n",
    "import nibabel\n",
    "import nilearn\n",
    "import numpy as np\n",
    "import sklearn\n",
    "import pandas as pd\n",
    "\n",
    "from nilearn import plotting\n",
    "\n",
    "import rtcloud"
   ]
  },
  {
   "cell_type": "code",
   "execution_count": 2,
   "metadata": {},
   "outputs": [],
   "source": [
    "# Prepare test samples\n",
    "test_subject = 2\n",
    "data_dir = \"data\"\n",
    "\n",
    "haxby = nilearn.datasets.fetch_haxby(data_dir=\"datasets\", subjects=[test_subject])\n",
    "labels_test = pd.read_csv(haxby.session_target[0], sep=\" \")\n",
    "y_test_all = labels_test[\"labels\"]\n",
    "condition_mask_test = y_test_all.isin([\"face\", \"house\"])"
   ]
  },
  {
   "cell_type": "code",
   "execution_count": 3,
   "metadata": {},
   "outputs": [],
   "source": [
    "fmri_img_test = nilearn.image.index_img(haxby.func[0], condition_mask_test)\n",
    "fmri_data_test = fmri_img_test.get_data()\n",
    "y_test = y_test_all[condition_mask_test]\n",
    "for sample in range(fmri_data_test.shape[-1]):\n",
    "    sample_data = fmri_data_test[..., sample][..., np.newaxis]\n",
    "    sample_img = nilearn.image.new_img_like(fmri_img_test, sample_data)\n",
    "    nibabel.save(sample_img, \"{}/subject-{}-sample-{:03}.nii.gz\".format(data_dir, test_subject, sample))"
   ]
  },
  {
   "cell_type": "code",
   "execution_count": 7,
   "metadata": {},
   "outputs": [],
   "source": [
    "conf = {\n",
    "    'test': 1\n",
    "}\n",
    "mask_img = nibabel.load(haxby.mask)\n",
    "conf['experiment_data'] = {\n",
    "    \"models\": sklearn.externals.joblib.load(\"models.pkl\"),\n",
    "    \"mask_data\": mask_img.get_data().astype(bool),\n",
    "    \"mask_affine\": mask_img.affine,\n",
    "}\n",
    "\n",
    "# client = rtcloud.Client(server_ip='ec2-34-237-207-176.compute-1.amazonaws.com', conf=conf)\n",
    "client = rtcloud.Client(server_ip='localhost', conf=conf)\n",
    "\n",
    "client.start()"
   ]
  },
  {
   "cell_type": "code",
   "execution_count": 8,
   "metadata": {},
   "outputs": [],
   "source": [
    "client.queue(input_dir=data_dir, tr=500, loop=True)"
   ]
  },
  {
   "cell_type": "code",
   "execution_count": null,
   "metadata": {},
   "outputs": [
    {
     "data": {
      "image/png": "[encoded data removed]",
      "text/plain": [
       "<matplotlib.figure.Figure at 0x12211eef0>"
      ]
     },
     "metadata": {},
     "output_type": "display_data"
    }
   ],
   "source": [
    "client.watch()\n",
    "client.display()"
   ]
  },
  {
   "cell_type": "code",
   "execution_count": null,
   "metadata": {},
   "outputs": [],
   "source": []
  }
 ],
 "metadata": {
  "kernelspec": {
   "display_name": "Python 3",
   "language": "python",
   "name": "python3"
  },
  "language_info": {
   "codemirror_mode": {
    "name": "ipython",
    "version": 3
   },
   "file_extension": ".py",
   "mimetype": "text/x-python",
   "name": "python",
   "nbconvert_exporter": "python",
   "pygments_lexer": "ipython3",
   "version": "3.6.3"
  }
 },
 "nbformat": 4,
 "nbformat_minor": 2
}
